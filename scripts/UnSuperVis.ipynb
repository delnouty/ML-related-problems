{
 "cells": [
  {
   "cell_type": "markdown",
   "id": "c4be725e",
   "metadata": {},
   "source": [
    "# Customer Segmentation for Online Retail - techniques"
   ]
  },
  {
   "cell_type": "markdown",
   "id": "23cd43e8",
   "metadata": {},
   "source": [
    "This is an example of the segmentation techniques. "
   ]
  },
  {
   "cell_type": "code",
   "execution_count": 1,
   "id": "37702cb1",
   "metadata": {},
   "outputs": [],
   "source": [
    "import os\n",
    "import numpy as np\n",
    "import pandas as pd\n",
    "import seaborn as sns\n",
    "import matplotlib.pyplot as plt\n",
    "import matplotlib.gridspec as gridspec"
   ]
  },
  {
   "cell_type": "code",
   "execution_count": 2,
   "id": "92379657",
   "metadata": {},
   "outputs": [],
   "source": [
    "from sklearn.model_selection import train_test_split\n",
    "from sklearn.ensemble import RandomForestClassifier\n",
    "from sklearn.metrics import accuracy_score, silhouette_samples, silhouette_score\n",
    "from sklearn.metrics import davies_bouldin_score, calinski_harabasz_score\n",
    "from sklearn.impute import SimpleImputer\n",
    "from sklearn.preprocessing import LabelEncoder, StandardScaler,  OneHotEncoder\n",
    "from sklearn.pipeline import Pipeline\n",
    "from sklearn.linear_model import Ridge\n",
    "from sklearn.decomposition import PCA\n",
    "from sklearn.cluster import KMeans, AgglomerativeClustering\n",
    "import scipy.cluster.hierarchy as sch"
   ]
  },
  {
   "cell_type": "code",
   "execution_count": 3,
   "id": "3391b72b",
   "metadata": {},
   "outputs": [],
   "source": [
    "# Get the current working directory\n",
    "current_directory = os.getcwd()\n",
    "\n",
    "# Correctly join the path to the data file, relative to the script's location\n",
    "file_path = os.path.join(current_directory, \"../data\", \"customers.csv\")"
   ]
  },
  {
   "cell_type": "markdown",
   "id": "fdf5ded2",
   "metadata": {},
   "source": [
    "## The dataset"
   ]
  },
  {
   "cell_type": "code",
   "execution_count": 4,
   "id": "791dd0fc",
   "metadata": {},
   "outputs": [],
   "source": [
    "#pip install ucimlrepo\n",
    "from ucimlrepo import fetch_ucirepo"
   ]
  },
  {
   "cell_type": "code",
   "execution_count": 5,
   "id": "868732f0",
   "metadata": {
    "scrolled": false
   },
   "outputs": [],
   "source": [
    "# Fetch dataset\n",
    "online_retail = fetch_ucirepo(id=352)\n",
    "\n",
    "# Data (as pandas dataframes)\n",
    "X = online_retail.data.features\n",
    "y = online_retail.data.targets\n",
    "\n",
    "# Convert targets to a dataframe if it's not already\n",
    "if not isinstance(y, pd.DataFrame):\n",
    "    y = pd.DataFrame(y, columns=[\"target\"])\n",
    "\n",
    "# Concatenate features and targets into a single dataframe\n",
    "df = pd.concat([X, y], axis=1)"
   ]
  },
  {
   "cell_type": "code",
   "execution_count": 6,
   "id": "77481e1a",
   "metadata": {},
   "outputs": [
    {
     "data": {
      "text/html": [
       "<div>\n",
       "<style scoped>\n",
       "    .dataframe tbody tr th:only-of-type {\n",
       "        vertical-align: middle;\n",
       "    }\n",
       "\n",
       "    .dataframe tbody tr th {\n",
       "        vertical-align: top;\n",
       "    }\n",
       "\n",
       "    .dataframe thead th {\n",
       "        text-align: right;\n",
       "    }\n",
       "</style>\n",
       "<table border=\"1\" class=\"dataframe\">\n",
       "  <thead>\n",
       "    <tr style=\"text-align: right;\">\n",
       "      <th></th>\n",
       "      <th>Description</th>\n",
       "      <th>Quantity</th>\n",
       "      <th>InvoiceDate</th>\n",
       "      <th>UnitPrice</th>\n",
       "      <th>CustomerID</th>\n",
       "      <th>Country</th>\n",
       "      <th>target</th>\n",
       "    </tr>\n",
       "  </thead>\n",
       "  <tbody>\n",
       "    <tr>\n",
       "      <th>0</th>\n",
       "      <td>WHITE HANGING HEART T-LIGHT HOLDER</td>\n",
       "      <td>6</td>\n",
       "      <td>12/1/2010 8:26</td>\n",
       "      <td>2.55</td>\n",
       "      <td>17850.0</td>\n",
       "      <td>United Kingdom</td>\n",
       "      <td>NaN</td>\n",
       "    </tr>\n",
       "    <tr>\n",
       "      <th>1</th>\n",
       "      <td>WHITE METAL LANTERN</td>\n",
       "      <td>6</td>\n",
       "      <td>12/1/2010 8:26</td>\n",
       "      <td>3.39</td>\n",
       "      <td>17850.0</td>\n",
       "      <td>United Kingdom</td>\n",
       "      <td>NaN</td>\n",
       "    </tr>\n",
       "    <tr>\n",
       "      <th>2</th>\n",
       "      <td>CREAM CUPID HEARTS COAT HANGER</td>\n",
       "      <td>8</td>\n",
       "      <td>12/1/2010 8:26</td>\n",
       "      <td>2.75</td>\n",
       "      <td>17850.0</td>\n",
       "      <td>United Kingdom</td>\n",
       "      <td>NaN</td>\n",
       "    </tr>\n",
       "    <tr>\n",
       "      <th>3</th>\n",
       "      <td>KNITTED UNION FLAG HOT WATER BOTTLE</td>\n",
       "      <td>6</td>\n",
       "      <td>12/1/2010 8:26</td>\n",
       "      <td>3.39</td>\n",
       "      <td>17850.0</td>\n",
       "      <td>United Kingdom</td>\n",
       "      <td>NaN</td>\n",
       "    </tr>\n",
       "    <tr>\n",
       "      <th>4</th>\n",
       "      <td>RED WOOLLY HOTTIE WHITE HEART.</td>\n",
       "      <td>6</td>\n",
       "      <td>12/1/2010 8:26</td>\n",
       "      <td>3.39</td>\n",
       "      <td>17850.0</td>\n",
       "      <td>United Kingdom</td>\n",
       "      <td>NaN</td>\n",
       "    </tr>\n",
       "  </tbody>\n",
       "</table>\n",
       "</div>"
      ],
      "text/plain": [
       "                           Description  Quantity     InvoiceDate  UnitPrice  \\\n",
       "0   WHITE HANGING HEART T-LIGHT HOLDER         6  12/1/2010 8:26       2.55   \n",
       "1                  WHITE METAL LANTERN         6  12/1/2010 8:26       3.39   \n",
       "2       CREAM CUPID HEARTS COAT HANGER         8  12/1/2010 8:26       2.75   \n",
       "3  KNITTED UNION FLAG HOT WATER BOTTLE         6  12/1/2010 8:26       3.39   \n",
       "4       RED WOOLLY HOTTIE WHITE HEART.         6  12/1/2010 8:26       3.39   \n",
       "\n",
       "   CustomerID         Country target  \n",
       "0     17850.0  United Kingdom    NaN  \n",
       "1     17850.0  United Kingdom    NaN  \n",
       "2     17850.0  United Kingdom    NaN  \n",
       "3     17850.0  United Kingdom    NaN  \n",
       "4     17850.0  United Kingdom    NaN  "
      ]
     },
     "execution_count": 6,
     "metadata": {},
     "output_type": "execute_result"
    }
   ],
   "source": [
    "# Display the first few rows of the combined dataframe\n",
    "df.head()\n",
    "\n",
    "# Metadata\n",
    "#print(online_retail.metadata)\n",
    "\n",
    "# Variable information\n",
    "#print(online_retail.variables)"
   ]
  },
  {
   "cell_type": "code",
   "execution_count": 7,
   "id": "7a49fee7",
   "metadata": {},
   "outputs": [
    {
     "name": "stdout",
     "output_type": "stream",
     "text": [
      "Dataframe saved to C:\\Users\\darya\\Documents\\Simplon\\ML and Zoo\\scripts\\../data\\customers.csv\n"
     ]
    }
   ],
   "source": [
    "# Save the dataframe to the specified file path \n",
    "df.to_csv(file_path, index=False) \n",
    "print(f\"Dataframe saved to {file_path}\")"
   ]
  },
  {
   "cell_type": "code",
   "execution_count": 8,
   "id": "f83939f0",
   "metadata": {},
   "outputs": [
    {
     "data": {
      "text/plain": [
       "Description     object\n",
       "Quantity         int64\n",
       "InvoiceDate     object\n",
       "UnitPrice      float64\n",
       "CustomerID     float64\n",
       "Country         object\n",
       "target          object\n",
       "dtype: object"
      ]
     },
     "execution_count": 8,
     "metadata": {},
     "output_type": "execute_result"
    }
   ],
   "source": [
    "df.dtypes"
   ]
  },
  {
   "cell_type": "markdown",
   "id": "88864556",
   "metadata": {},
   "source": [
    "### Variables\n",
    "\n",
    "- **Description:** This column contains the name of the product being purchased. For example, \"WHITE HANGING HEART T-LIGHT HOLDER\".\n",
    "- **Quantity:** The number of items being purchased in a single transaction. For example, 6 units of \"WHITE HANGING HEART T-LIGHT HOLDER\".\n",
    "- **InvoiceDate:** The date and time of the transaction. The format is \"MM/DD/YYYY HH:MM\".\n",
    "- **UnitPrice:** The price per unit of the product. For instance, the \"WHITE HANGING HEART T-LIGHT HOLDER\" costs 2.55 currency units each.\n",
    "- **CustomerID:** A unique identifier for the customer making the purchase. For example, the customer ID 17850.\n",
    "- **Country:** The country where the customer is located."
   ]
  },
  {
   "cell_type": "markdown",
   "id": "03d116df",
   "metadata": {},
   "source": [
    "## Phase 1: Data Exploration\n",
    "\n",
    "Begin by thoroughly exploring the dataset to understand its structure, the types of data it contains, and any initial patterns. This includes examining summary statistics, visualizing distributions, and identifying any anomalies or missing values."
   ]
  },
  {
   "cell_type": "code",
   "execution_count": 88,
   "id": "c56f5bcd",
   "metadata": {},
   "outputs": [
    {
     "data": {
      "text/plain": [
       "Description    string[python]\n",
       "Quantity              float64\n",
       "InvoiceDate    string[python]\n",
       "UnitPrice             float64\n",
       "CustomerID     string[python]\n",
       "Country        string[python]\n",
       "target         string[python]\n",
       "dtype: object"
      ]
     },
     "execution_count": 88,
     "metadata": {},
     "output_type": "execute_result"
    }
   ],
   "source": [
    "# Define column names and types\n",
    "column_names = [\"Description\", \"Quantity\", \"InvoiceDate\", \"UnitPrice\", \"CustomerID\", \"Country\", \"target\"]\n",
    "column_types = {\n",
    "    \"Description\": \"string\",\n",
    "    \"Quantity\": \"float\",\n",
    "    \"InvoiceDate\": \"string\",  # Temporary read as string to parse date format later\n",
    "    \"UnitPrice\": \"float\",\n",
    "    \"CustomerID\": \"string\",\n",
    "    \"Country\": \"string\",\n",
    "    \"target\": \"string\"\n",
    "}\n",
    "\n",
    "# Read the CSV file\n",
    "df = pd.read_csv(file_path, names=column_names, dtype=column_types, skiprows=1)\n",
    "df.dtypes"
   ]
  },
  {
   "cell_type": "markdown",
   "id": "c48f46f9",
   "metadata": {},
   "source": [
    "**The new name for \"target\" is \"profile\"**"
   ]
  },
  {
   "cell_type": "code",
   "execution_count": 89,
   "id": "7f246fcd",
   "metadata": {},
   "outputs": [],
   "source": [
    "df.rename(columns={\"target\": \"profile\"}, inplace=True)"
   ]
  },
  {
   "cell_type": "markdown",
   "id": "5a3748f8",
   "metadata": {},
   "source": [
    "## Phase 2: Data Preprocessing\n",
    "Prepare the data for analysis by cleaning it. This involves handling missing values, removing duplicates. Ensure the data is in a suitable format for the next steps."
   ]
  },
  {
   "cell_type": "markdown",
   "id": "5f1ffa29",
   "metadata": {},
   "source": [
    "### 2.1. Handling Missing Values "
   ]
  },
  {
   "cell_type": "code",
   "execution_count": 90,
   "id": "20f360cf",
   "metadata": {
    "scrolled": true
   },
   "outputs": [
    {
     "data": {
      "text/html": [
       "<div>\n",
       "<style scoped>\n",
       "    .dataframe tbody tr th:only-of-type {\n",
       "        vertical-align: middle;\n",
       "    }\n",
       "\n",
       "    .dataframe tbody tr th {\n",
       "        vertical-align: top;\n",
       "    }\n",
       "\n",
       "    .dataframe thead th {\n",
       "        text-align: right;\n",
       "    }\n",
       "</style>\n",
       "<table border=\"1\" class=\"dataframe\">\n",
       "  <thead>\n",
       "    <tr style=\"text-align: right;\">\n",
       "      <th></th>\n",
       "      <th>Description</th>\n",
       "      <th>Quantity</th>\n",
       "      <th>InvoiceDate</th>\n",
       "      <th>UnitPrice</th>\n",
       "      <th>CustomerID</th>\n",
       "      <th>Country</th>\n",
       "      <th>profile</th>\n",
       "    </tr>\n",
       "  </thead>\n",
       "  <tbody>\n",
       "    <tr>\n",
       "      <th>332571</th>\n",
       "      <td>FRIDGE MAGNETS LES ENFANTS ASSORTED</td>\n",
       "      <td>24.0</td>\n",
       "      <td>2011-09-09 09:52:00</td>\n",
       "      <td>0.85</td>\n",
       "      <td>17593.0</td>\n",
       "      <td>United Kingdom</td>\n",
       "      <td>&lt;NA&gt;</td>\n",
       "    </tr>\n",
       "    <tr>\n",
       "      <th>332536</th>\n",
       "      <td>HANGING MINI COLOURED BOTTLES</td>\n",
       "      <td>96.0</td>\n",
       "      <td>2011-09-09 09:52:00</td>\n",
       "      <td>0.63</td>\n",
       "      <td>17593.0</td>\n",
       "      <td>United Kingdom</td>\n",
       "      <td>&lt;NA&gt;</td>\n",
       "    </tr>\n",
       "    <tr>\n",
       "      <th>332551</th>\n",
       "      <td>MAGNETS PACK OF 4 RETRO PHOTO</td>\n",
       "      <td>24.0</td>\n",
       "      <td>2011-09-09 09:52:00</td>\n",
       "      <td>0.39</td>\n",
       "      <td>17593.0</td>\n",
       "      <td>United Kingdom</td>\n",
       "      <td>&lt;NA&gt;</td>\n",
       "    </tr>\n",
       "    <tr>\n",
       "      <th>332550</th>\n",
       "      <td>MAGNETS PACK OF 4 HOME SWEET HOME</td>\n",
       "      <td>24.0</td>\n",
       "      <td>2011-09-09 09:52:00</td>\n",
       "      <td>0.39</td>\n",
       "      <td>17593.0</td>\n",
       "      <td>United Kingdom</td>\n",
       "      <td>&lt;NA&gt;</td>\n",
       "    </tr>\n",
       "    <tr>\n",
       "      <th>332549</th>\n",
       "      <td>FRENCH LATTICE CUSHION COVER</td>\n",
       "      <td>12.0</td>\n",
       "      <td>2011-09-09 09:52:00</td>\n",
       "      <td>0.85</td>\n",
       "      <td>17593.0</td>\n",
       "      <td>United Kingdom</td>\n",
       "      <td>&lt;NA&gt;</td>\n",
       "    </tr>\n",
       "  </tbody>\n",
       "</table>\n",
       "</div>"
      ],
      "text/plain": [
       "                                Description  Quantity         InvoiceDate  \\\n",
       "332571  FRIDGE MAGNETS LES ENFANTS ASSORTED      24.0 2011-09-09 09:52:00   \n",
       "332536        HANGING MINI COLOURED BOTTLES      96.0 2011-09-09 09:52:00   \n",
       "332551        MAGNETS PACK OF 4 RETRO PHOTO      24.0 2011-09-09 09:52:00   \n",
       "332550    MAGNETS PACK OF 4 HOME SWEET HOME      24.0 2011-09-09 09:52:00   \n",
       "332549        FRENCH LATTICE CUSHION COVER       12.0 2011-09-09 09:52:00   \n",
       "\n",
       "        UnitPrice CustomerID         Country profile  \n",
       "332571       0.85    17593.0  United Kingdom    <NA>  \n",
       "332536       0.63    17593.0  United Kingdom    <NA>  \n",
       "332551       0.39    17593.0  United Kingdom    <NA>  \n",
       "332550       0.39    17593.0  United Kingdom    <NA>  \n",
       "332549       0.85    17593.0  United Kingdom    <NA>  "
      ]
     },
     "execution_count": 90,
     "metadata": {},
     "output_type": "execute_result"
    }
   ],
   "source": [
    "# Remove rows with missing CustomerID and InvoiceDate\n",
    "df = df.dropna(subset=[\"CustomerID\", \"InvoiceDate\"])\n",
    "\n",
    "# Sort rows by InvoiceDate in descending order\n",
    "df = df.sort_values(by=\"InvoiceDate\", ascending=False)\n",
    "\n",
    "# Filter rows where Country is not 'Unspecified' and Description is not empty\n",
    "df = df[(df[\"Country\"] != \"Unspecified\") & (df[\"Country\"].notna())]\n",
    "df = df[(df[\"Description\"] != \"\") & (df[\"Description\"].notna())]\n",
    "\n",
    "# Parse InvoiceDate as datetime, inferring format\n",
    "df[\"InvoiceDate\"] = pd.to_datetime(df[\"InvoiceDate\"])#,infer_datetime_format=True\n",
    "df.head()"
   ]
  },
  {
   "cell_type": "code",
   "execution_count": 91,
   "id": "894bacd3",
   "metadata": {},
   "outputs": [
    {
     "name": "stdout",
     "output_type": "stream",
     "text": [
      "Description         0\n",
      "Quantity            0\n",
      "InvoiceDate         0\n",
      "UnitPrice           0\n",
      "CustomerID          0\n",
      "Country             0\n",
      "profile        406585\n",
      "dtype: int64\n"
     ]
    }
   ],
   "source": [
    "# Check for missing values \n",
    "print(df.isnull().sum()) "
   ]
  },
  {
   "cell_type": "markdown",
   "id": "916596d6",
   "metadata": {},
   "source": [
    "### 2.2. Removing duplicates"
   ]
  },
  {
   "cell_type": "code",
   "execution_count": 92,
   "id": "3ce1acce",
   "metadata": {},
   "outputs": [
    {
     "name": "stdout",
     "output_type": "stream",
     "text": [
      "Number of duplicate rows: 5298\n"
     ]
    }
   ],
   "source": [
    "# Count the number of duplicate rows \n",
    "duplicate_count = df.duplicated().sum() \n",
    "# Print the number of duplicate rows \n",
    "print(f\"Number of duplicate rows: {duplicate_count}\")"
   ]
  },
  {
   "cell_type": "code",
   "execution_count": 93,
   "id": "2d385452",
   "metadata": {},
   "outputs": [
    {
     "name": "stdout",
     "output_type": "stream",
     "text": [
      "Number of duplicate rows after removing: 0\n"
     ]
    }
   ],
   "source": [
    "# Remove duplicate rows\n",
    "df = df.drop_duplicates()\n",
    "\n",
    "# Verify that duplicates have been removed\n",
    "duplicate_count_after = df.duplicated().sum()\n",
    "print(f\"Number of duplicate rows after removing: {duplicate_count_after}\")\n"
   ]
  },
  {
   "cell_type": "markdown",
   "id": "f5716caa",
   "metadata": {},
   "source": [
    "### 2.3. Data Formats"
   ]
  },
  {
   "cell_type": "code",
   "execution_count": 94,
   "id": "ee8c44d2",
   "metadata": {},
   "outputs": [
    {
     "data": {
      "text/plain": [
       "Description    string[python]\n",
       "Quantity              float64\n",
       "InvoiceDate    datetime64[ns]\n",
       "UnitPrice             float64\n",
       "CustomerID     string[python]\n",
       "Country        string[python]\n",
       "profile        string[python]\n",
       "dtype: object"
      ]
     },
     "execution_count": 94,
     "metadata": {},
     "output_type": "execute_result"
    }
   ],
   "source": [
    "df.dtypes"
   ]
  },
  {
   "cell_type": "code",
   "execution_count": 95,
   "id": "f07a749a",
   "metadata": {},
   "outputs": [
    {
     "data": {
      "text/html": [
       "<div>\n",
       "<style scoped>\n",
       "    .dataframe tbody tr th:only-of-type {\n",
       "        vertical-align: middle;\n",
       "    }\n",
       "\n",
       "    .dataframe tbody tr th {\n",
       "        vertical-align: top;\n",
       "    }\n",
       "\n",
       "    .dataframe thead th {\n",
       "        text-align: right;\n",
       "    }\n",
       "</style>\n",
       "<table border=\"1\" class=\"dataframe\">\n",
       "  <thead>\n",
       "    <tr style=\"text-align: right;\">\n",
       "      <th></th>\n",
       "      <th>Description</th>\n",
       "      <th>Quantity</th>\n",
       "      <th>InvoiceDate</th>\n",
       "      <th>UnitPrice</th>\n",
       "      <th>CustomerID</th>\n",
       "      <th>Country</th>\n",
       "      <th>profile</th>\n",
       "      <th>InvTime</th>\n",
       "      <th>InvDate</th>\n",
       "      <th>InvHour</th>\n",
       "    </tr>\n",
       "  </thead>\n",
       "  <tbody>\n",
       "    <tr>\n",
       "      <th>332571</th>\n",
       "      <td>FRIDGE MAGNETS LES ENFANTS ASSORTED</td>\n",
       "      <td>24.0</td>\n",
       "      <td>2011-09-09 09:52:00</td>\n",
       "      <td>0.85</td>\n",
       "      <td>17593.0</td>\n",
       "      <td>United Kingdom</td>\n",
       "      <td>&lt;NA&gt;</td>\n",
       "      <td>09:52:00</td>\n",
       "      <td>2011-09-09</td>\n",
       "      <td>9</td>\n",
       "    </tr>\n",
       "    <tr>\n",
       "      <th>332536</th>\n",
       "      <td>HANGING MINI COLOURED BOTTLES</td>\n",
       "      <td>96.0</td>\n",
       "      <td>2011-09-09 09:52:00</td>\n",
       "      <td>0.63</td>\n",
       "      <td>17593.0</td>\n",
       "      <td>United Kingdom</td>\n",
       "      <td>&lt;NA&gt;</td>\n",
       "      <td>09:52:00</td>\n",
       "      <td>2011-09-09</td>\n",
       "      <td>9</td>\n",
       "    </tr>\n",
       "    <tr>\n",
       "      <th>332551</th>\n",
       "      <td>MAGNETS PACK OF 4 RETRO PHOTO</td>\n",
       "      <td>24.0</td>\n",
       "      <td>2011-09-09 09:52:00</td>\n",
       "      <td>0.39</td>\n",
       "      <td>17593.0</td>\n",
       "      <td>United Kingdom</td>\n",
       "      <td>&lt;NA&gt;</td>\n",
       "      <td>09:52:00</td>\n",
       "      <td>2011-09-09</td>\n",
       "      <td>9</td>\n",
       "    </tr>\n",
       "    <tr>\n",
       "      <th>332550</th>\n",
       "      <td>MAGNETS PACK OF 4 HOME SWEET HOME</td>\n",
       "      <td>24.0</td>\n",
       "      <td>2011-09-09 09:52:00</td>\n",
       "      <td>0.39</td>\n",
       "      <td>17593.0</td>\n",
       "      <td>United Kingdom</td>\n",
       "      <td>&lt;NA&gt;</td>\n",
       "      <td>09:52:00</td>\n",
       "      <td>2011-09-09</td>\n",
       "      <td>9</td>\n",
       "    </tr>\n",
       "    <tr>\n",
       "      <th>332549</th>\n",
       "      <td>FRENCH LATTICE CUSHION COVER</td>\n",
       "      <td>12.0</td>\n",
       "      <td>2011-09-09 09:52:00</td>\n",
       "      <td>0.85</td>\n",
       "      <td>17593.0</td>\n",
       "      <td>United Kingdom</td>\n",
       "      <td>&lt;NA&gt;</td>\n",
       "      <td>09:52:00</td>\n",
       "      <td>2011-09-09</td>\n",
       "      <td>9</td>\n",
       "    </tr>\n",
       "  </tbody>\n",
       "</table>\n",
       "</div>"
      ],
      "text/plain": [
       "                                Description  Quantity         InvoiceDate  \\\n",
       "332571  FRIDGE MAGNETS LES ENFANTS ASSORTED      24.0 2011-09-09 09:52:00   \n",
       "332536        HANGING MINI COLOURED BOTTLES      96.0 2011-09-09 09:52:00   \n",
       "332551        MAGNETS PACK OF 4 RETRO PHOTO      24.0 2011-09-09 09:52:00   \n",
       "332550    MAGNETS PACK OF 4 HOME SWEET HOME      24.0 2011-09-09 09:52:00   \n",
       "332549        FRENCH LATTICE CUSHION COVER       12.0 2011-09-09 09:52:00   \n",
       "\n",
       "        UnitPrice CustomerID         Country profile   InvTime     InvDate  \\\n",
       "332571       0.85    17593.0  United Kingdom    <NA>  09:52:00  2011-09-09   \n",
       "332536       0.63    17593.0  United Kingdom    <NA>  09:52:00  2011-09-09   \n",
       "332551       0.39    17593.0  United Kingdom    <NA>  09:52:00  2011-09-09   \n",
       "332550       0.39    17593.0  United Kingdom    <NA>  09:52:00  2011-09-09   \n",
       "332549       0.85    17593.0  United Kingdom    <NA>  09:52:00  2011-09-09   \n",
       "\n",
       "        InvHour  \n",
       "332571        9  \n",
       "332536        9  \n",
       "332551        9  \n",
       "332550        9  \n",
       "332549        9  "
      ]
     },
     "execution_count": 95,
     "metadata": {},
     "output_type": "execute_result"
    }
   ],
   "source": [
    "# Split into date and time\n",
    "df[\"InvTime\"] = df[\"InvoiceDate\"].dt.time\n",
    "df[\"InvDate\"] = df[\"InvoiceDate\"].dt.date\n",
    "df[\"InvHour\"] = df[\"InvoiceDate\"].dt.hour\n",
    "# Display the resulting dataframe\n",
    "df.head()"
   ]
  },
  {
   "cell_type": "markdown",
   "id": "5180afaf",
   "metadata": {},
   "source": [
    "## Phase 3: Feature Engineering\n",
    "Create the key variables needed for customer segmentation:\n",
    "\n",
    "- **Frequency: The number of times a customer has made a purchase.**\n",
    "- **Recency: The number of days since the customer's last purchase.**\n",
    "- **Monetary: The total amount of money spent by the customer.**"
   ]
  },
  {
   "cell_type": "markdown",
   "id": "af177af0",
   "metadata": {},
   "source": [
    "### 3.1. Additional variables"
   ]
  },
  {
   "cell_type": "code",
   "execution_count": 96,
   "id": "3ea6726a",
   "metadata": {
    "scrolled": true
   },
   "outputs": [],
   "source": [
    "df[\"Amount\"]=df[\"Quantity\"]*df[\"UnitPrice\"]\n",
    "# Create a new variable sureIndex\n",
    "df[\"sureIndex\"] = df[\"Amount\"].apply(lambda x: -1 if x < 0 else 1 if x > 0 else 0)"
   ]
  },
  {
   "cell_type": "markdown",
   "id": "6f38e663",
   "metadata": {},
   "source": [
    "### 3.2. FRM-analysis"
   ]
  },
  {
   "cell_type": "code",
   "execution_count": 97,
   "id": "e46d20ab",
   "metadata": {
    "scrolled": false
   },
   "outputs": [],
   "source": [
    "sureIndMean=df.groupby(\"CustomerID\")[\"sureIndex\"].median().reset_index()\n",
    "sureIndMean.columns = [\"CustomerID\", \"NonCancellationRate\"]"
   ]
  },
  {
   "cell_type": "code",
   "execution_count": 98,
   "id": "2fd6d6b8",
   "metadata": {
    "scrolled": false
   },
   "outputs": [
    {
     "data": {
      "text/html": [
       "<div>\n",
       "<style scoped>\n",
       "    .dataframe tbody tr th:only-of-type {\n",
       "        vertical-align: middle;\n",
       "    }\n",
       "\n",
       "    .dataframe tbody tr th {\n",
       "        vertical-align: top;\n",
       "    }\n",
       "\n",
       "    .dataframe thead th {\n",
       "        text-align: right;\n",
       "    }\n",
       "</style>\n",
       "<table border=\"1\" class=\"dataframe\">\n",
       "  <thead>\n",
       "    <tr style=\"text-align: right;\">\n",
       "      <th></th>\n",
       "      <th>CustomerID</th>\n",
       "      <th>Recency</th>\n",
       "      <th>RecencyScore</th>\n",
       "      <th>Tenure</th>\n",
       "      <th>TenureScore</th>\n",
       "    </tr>\n",
       "  </thead>\n",
       "  <tbody>\n",
       "    <tr>\n",
       "      <th>0</th>\n",
       "      <td>12346.0</td>\n",
       "      <td>325</td>\n",
       "      <td>5.786897</td>\n",
       "      <td>325</td>\n",
       "      <td>5.786897</td>\n",
       "    </tr>\n",
       "    <tr>\n",
       "      <th>1</th>\n",
       "      <td>12347.0</td>\n",
       "      <td>1</td>\n",
       "      <td>0.693147</td>\n",
       "      <td>366</td>\n",
       "      <td>5.905362</td>\n",
       "    </tr>\n",
       "    <tr>\n",
       "      <th>2</th>\n",
       "      <td>12348.0</td>\n",
       "      <td>74</td>\n",
       "      <td>4.317488</td>\n",
       "      <td>357</td>\n",
       "      <td>5.880533</td>\n",
       "    </tr>\n",
       "    <tr>\n",
       "      <th>3</th>\n",
       "      <td>12349.0</td>\n",
       "      <td>18</td>\n",
       "      <td>2.944439</td>\n",
       "      <td>18</td>\n",
       "      <td>2.944439</td>\n",
       "    </tr>\n",
       "    <tr>\n",
       "      <th>4</th>\n",
       "      <td>12350.0</td>\n",
       "      <td>309</td>\n",
       "      <td>5.736572</td>\n",
       "      <td>309</td>\n",
       "      <td>5.736572</td>\n",
       "    </tr>\n",
       "  </tbody>\n",
       "</table>\n",
       "</div>"
      ],
      "text/plain": [
       "  CustomerID  Recency  RecencyScore  Tenure  TenureScore\n",
       "0    12346.0      325      5.786897     325     5.786897\n",
       "1    12347.0        1      0.693147     366     5.905362\n",
       "2    12348.0       74      4.317488     357     5.880533\n",
       "3    12349.0       18      2.944439      18     2.944439\n",
       "4    12350.0      309      5.736572     309     5.736572"
      ]
     },
     "execution_count": 98,
     "metadata": {},
     "output_type": "execute_result"
    }
   ],
   "source": [
    "# Compute RFM (Recency, Frequency, Monetary) values for each customer\n",
    "# Use the last date in the dataframe as the current date\n",
    "\n",
    "current_date = df[\"InvoiceDate\"].max()\n",
    "\n",
    "df[\"LastOrder\"]=(current_date-df[\"InvoiceDate\"]).dt.days\n",
    "last_order_mean=df.groupby(\"CustomerID\")[\"LastOrder\"].min().reset_index()\n",
    "last_order_mean.columns=[\"CustomerID\",\"Recency\"]\n",
    "last_order_mean['RecencyScore'] = np.log1p(last_order_mean['Recency'])\n",
    "\n",
    "first_order_mean=df.groupby(\"CustomerID\")[\"LastOrder\"].max().reset_index()\n",
    "first_order_mean.columns=[\"CustomerID\",\"Tenure\"]\n",
    "first_order_mean['TenureScore'] = np.log1p(first_order_mean['Tenure'])\n",
    "\n",
    "last_order_mean=last_order_mean.merge(first_order_mean, on=\"CustomerID\")\n",
    "last_order_mean.head()"
   ]
  },
  {
   "cell_type": "code",
   "execution_count": 99,
   "id": "328f18ce",
   "metadata": {},
   "outputs": [],
   "source": [
    "# plt.figure(figsize=(8, 6)) \n",
    "# sns.scatterplot(x='RecencyScore', y='RecencyScore', data=last_order_mean) \n",
    "# plt.xlabel('Recency Score') \n",
    "# plt.ylabel('Customer Tenure (days)') \n",
    "# plt.title('Scatter Plot of Recency Score vs Customer Tenure')"
   ]
  },
  {
   "cell_type": "code",
   "execution_count": 100,
   "id": "f997a8ca",
   "metadata": {},
   "outputs": [],
   "source": [
    "# Calculate the sum of amounts for each customer\n",
    "amount_sums = df.groupby(\"CustomerID\")[\"Amount\"].sum().reset_index()\n",
    "amount_sums.columns = [\"CustomerID\", \"Monetary\"]"
   ]
  },
  {
   "cell_type": "code",
   "execution_count": 101,
   "id": "42f26877",
   "metadata": {},
   "outputs": [],
   "source": [
    "order_counts = df.groupby(\"CustomerID\")[\"InvoiceDate\"].nunique().reset_index() \n",
    "order_counts.columns = [\"CustomerID\", \"Frequency\"]"
   ]
  },
  {
   "cell_type": "code",
   "execution_count": 102,
   "id": "4144c834",
   "metadata": {},
   "outputs": [],
   "source": [
    "order_country = df.groupby(\"CustomerID\")[\"Country\"].unique().reset_index() \n",
    "order_country.columns = [\"CustomerID\", \"Country\"]"
   ]
  },
  {
   "cell_type": "code",
   "execution_count": 103,
   "id": "e2c1ccfa",
   "metadata": {},
   "outputs": [],
   "source": [
    "order_hour = df.groupby(\"CustomerID\")[\"InvHour\"].mean().reset_index()\n",
    "order_hour.columns = [\"CustomerID\", \"Hour\"]"
   ]
  },
  {
   "cell_type": "code",
   "execution_count": 104,
   "id": "80a06067",
   "metadata": {},
   "outputs": [
    {
     "data": {
      "text/html": [
       "<div>\n",
       "<style scoped>\n",
       "    .dataframe tbody tr th:only-of-type {\n",
       "        vertical-align: middle;\n",
       "    }\n",
       "\n",
       "    .dataframe tbody tr th {\n",
       "        vertical-align: top;\n",
       "    }\n",
       "\n",
       "    .dataframe thead th {\n",
       "        text-align: right;\n",
       "    }\n",
       "</style>\n",
       "<table border=\"1\" class=\"dataframe\">\n",
       "  <thead>\n",
       "    <tr style=\"text-align: right;\">\n",
       "      <th></th>\n",
       "      <th>CustomerID</th>\n",
       "      <th>Country</th>\n",
       "    </tr>\n",
       "  </thead>\n",
       "  <tbody>\n",
       "    <tr>\n",
       "      <th>0</th>\n",
       "      <td>12346.0</td>\n",
       "      <td>United Kingdom</td>\n",
       "    </tr>\n",
       "    <tr>\n",
       "      <th>1</th>\n",
       "      <td>12347.0</td>\n",
       "      <td>Iceland</td>\n",
       "    </tr>\n",
       "    <tr>\n",
       "      <th>2</th>\n",
       "      <td>12348.0</td>\n",
       "      <td>Finland</td>\n",
       "    </tr>\n",
       "    <tr>\n",
       "      <th>3</th>\n",
       "      <td>12349.0</td>\n",
       "      <td>Italy</td>\n",
       "    </tr>\n",
       "    <tr>\n",
       "      <th>4</th>\n",
       "      <td>12350.0</td>\n",
       "      <td>Norway</td>\n",
       "    </tr>\n",
       "    <tr>\n",
       "      <th>...</th>\n",
       "      <td>...</td>\n",
       "      <td>...</td>\n",
       "    </tr>\n",
       "    <tr>\n",
       "      <th>4363</th>\n",
       "      <td>18280.0</td>\n",
       "      <td>United Kingdom</td>\n",
       "    </tr>\n",
       "    <tr>\n",
       "      <th>4364</th>\n",
       "      <td>18281.0</td>\n",
       "      <td>United Kingdom</td>\n",
       "    </tr>\n",
       "    <tr>\n",
       "      <th>4365</th>\n",
       "      <td>18282.0</td>\n",
       "      <td>United Kingdom</td>\n",
       "    </tr>\n",
       "    <tr>\n",
       "      <th>4366</th>\n",
       "      <td>18283.0</td>\n",
       "      <td>United Kingdom</td>\n",
       "    </tr>\n",
       "    <tr>\n",
       "      <th>4367</th>\n",
       "      <td>18287.0</td>\n",
       "      <td>United Kingdom</td>\n",
       "    </tr>\n",
       "  </tbody>\n",
       "</table>\n",
       "<p>4368 rows × 2 columns</p>\n",
       "</div>"
      ],
      "text/plain": [
       "     CustomerID         Country\n",
       "0       12346.0  United Kingdom\n",
       "1       12347.0         Iceland\n",
       "2       12348.0         Finland\n",
       "3       12349.0           Italy\n",
       "4       12350.0          Norway\n",
       "...         ...             ...\n",
       "4363    18280.0  United Kingdom\n",
       "4364    18281.0  United Kingdom\n",
       "4365    18282.0  United Kingdom\n",
       "4366    18283.0  United Kingdom\n",
       "4367    18287.0  United Kingdom\n",
       "\n",
       "[4368 rows x 2 columns]"
      ]
     },
     "execution_count": 104,
     "metadata": {},
     "output_type": "execute_result"
    }
   ],
   "source": [
    "# Apply the function to get only the first value from the StringArray representation\n",
    "order_country['Country'] = order_country['Country'].apply(lambda x: x[0] if isinstance(x, (list, pd.arrays.StringArray)) else x)\n",
    "\n",
    "# Display the modified dataframe\n",
    "order_country.astype(str)\n"
   ]
  },
  {
   "cell_type": "code",
   "execution_count": 105,
   "id": "fbbcb3ab",
   "metadata": {
    "scrolled": false
   },
   "outputs": [
    {
     "data": {
      "text/plain": [
       "Index(['CustomerID', 'NonCancellationRate', 'Recency', 'RecencyScore',\n",
       "       'Tenure', 'TenureScore', 'Monetary', 'Frequency', 'Country', 'Hour',\n",
       "       'CLV', 'RFMScore', 'SpendFrequencyRatio', 'HighValueCustomer'],\n",
       "      dtype='object')"
      ]
     },
     "execution_count": 105,
     "metadata": {},
     "output_type": "execute_result"
    }
   ],
   "source": [
    "# Merge order counts and amount sums with the original dataframe \n",
    "# Merge dataframes to create the clients dataframe \n",
    "RFM = sureIndMean.merge(last_order_mean, on=\"CustomerID\")\n",
    "RFM = RFM.merge(amount_sums, on=\"CustomerID\")\n",
    "RFM = RFM.merge(order_counts, on=\"CustomerID\")\n",
    "RFM = RFM.merge(order_country, on=\"CustomerID\")\n",
    "RFM = RFM.merge(order_hour, on=\"CustomerID\")\n",
    "######################## New Features #########################################################################\n",
    "#Customer Lifetime Value (CLV)\n",
    "RFM['CLV'] = RFM['Monetary'] * RFM['Frequency']\n",
    "#RFM Score\n",
    "RFM['RFMScore'] = RFM['Recency'] * RFM['Frequency'] * RFM['Monetary']\n",
    "#Spend Frequency Ratio\n",
    "RFM['SpendFrequencyRatio'] = RFM['Frequency'] / (RFM['Recency'] + 1)\n",
    "# High-Value Customers Indicator\n",
    "threshold_monetary = RFM['Monetary'].quantile(0.75)\n",
    "threshold_frequency = RFM['Frequency'].quantile(0.75)\n",
    "RFM['HighValueCustomer'] = (RFM['Monetary'] > threshold_monetary) & (RFM['Frequency'] > threshold_frequency)\n",
    "################################################################################################################\n",
    "RFM = RFM[RFM['TenureScore'].between(RFM['TenureScore'].quantile(0.05), RFM['TenureScore'].quantile(0.99))]\n",
    "\n",
    "\n",
    "RFM.columns\n",
    "#RFM.shape"
   ]
  },
  {
   "cell_type": "code",
   "execution_count": 106,
   "id": "6421a47b",
   "metadata": {
    "scrolled": false
   },
   "outputs": [
    {
     "data": {
      "text/plain": [
       "<Axes: xlabel='TenureScore'>"
      ]
     },
     "execution_count": 106,
     "metadata": {},
     "output_type": "execute_result"
    },
    {
     "data": {
      "image/png": "[encoded data removed]",
      "text/plain": [
       "<Figure size 640x480 with 1 Axes>"
      ]
     },
     "metadata": {},
     "output_type": "display_data"
    }
   ],
   "source": [
    "sns.boxplot(x='TenureScore',data=RFM)"
   ]
  },
  {
   "cell_type": "markdown",
   "id": "e4de0169",
   "metadata": {},
   "source": [
    "### 3.3. Data Cleaning"
   ]
  },
  {
   "cell_type": "code",
   "execution_count": 107,
   "id": "710f7e81",
   "metadata": {
    "scrolled": true
   },
   "outputs": [],
   "source": [
    "# Get unique countries\n",
    "RFM = RFM[RFM['Country'] != 'European Community']\n",
    "unique_countries = RFM['Country'].unique()\n",
    "\n",
    "# Create a mapping from countries to integers\n",
    "country_to_int = {country: idx for idx, country in enumerate(unique_countries)}\n",
    "\n",
    "# Apply the mapping to the Country column\n",
    "RFM['CountryInt'] = RFM['Country'].map(country_to_int)"
   ]
  },
  {
   "cell_type": "code",
   "execution_count": 108,
   "id": "95112475",
   "metadata": {},
   "outputs": [],
   "source": [
    "# Create a mapping of countries to continents\n",
    "country_to_continent = {\n",
    "    'United Kingdom': 'Europe', 'Iceland': 'Europe', 'Finland': 'Europe', 'Italy': 'Europe',\n",
    "    'Norway': 'Europe', 'Spain': 'Europe', 'Portugal': 'Europe', 'Switzerland': 'Europe',\n",
    "    'Austria': 'Europe', 'Cyprus': 'Europe', 'Belgium': 'Europe', 'Denmark': 'Europe',\n",
    "    'France': 'Europe', 'Germany': 'Europe', 'Greece': 'Europe', 'Sweden': 'Europe',\n",
    "    'Poland': 'Europe', 'Netherlands': 'Europe', 'Czech Republic': 'Europe', 'EIRE': 'Europe',\n",
    "    'Channel Islands': 'Europe', 'Lithuania': 'Europe', 'Malta': 'Europe',\n",
    "    'Bahrain': 'Asia', 'Israel': 'Asia', 'Saudi Arabia': 'Asia', 'United Arab Emirates': 'Asia',\n",
    "    'Singapore': 'Asia', 'Japan': 'Asia', 'Lebanon': 'Asia',\n",
    "    'USA': 'North America', 'Canada': 'North America',\n",
    "    'Brazil': 'South America',\n",
    "    'Australia': 'Oceania',\n",
    "    'RSA': 'Africa'\n",
    "}\n",
    "\n",
    "# Apply the mapping to create a new 'Continent' column\n",
    "RFM['Continent'] = RFM['Country'].map(country_to_continent)\n",
    "\n",
    "# Create a mapping of continents to integer codes\n",
    "continent_to_int = {\n",
    "    'Europe': 0, \n",
    "    'Asia': 1, \n",
    "    'North America': 2, \n",
    "    'South America': 2, \n",
    "    'Oceania': 3, \n",
    "    'Africa': 3\n",
    "}\n",
    "\n",
    "# Apply the mapping to create a new 'ContinentInt' column\n",
    "RFM['ContinentInt'] = RFM['Continent'].map(continent_to_int)\n"
   ]
  },
  {
   "cell_type": "markdown",
   "id": "4317d3e1",
   "metadata": {},
   "source": [
    "## Phase 4: Dimensionality Reduction\n",
    "If needed, apply dimensionality reduction techniques such as Principal Component Analysis (PCA) to reduce the complexity of the data while retaining important information. This step can help improve the efficiency and effectiveness of the clustering algorithms."
   ]
  },
  {
   "cell_type": "code",
   "execution_count": 109,
   "id": "50d9e367",
   "metadata": {},
   "outputs": [],
   "source": [
    "# Exclude non-numeric columns\n",
    "numeric_cols = ['NonCancellationRate', 'RecencyScore',\n",
    "        'TenureScore', 'CLV', 'RFMScore', 'SpendFrequencyRatio', 'HighValueCustomer']\n",
    "#df_numeric = RFM_filtered[numeric_cols]\n",
    "df_numeric = RFM[numeric_cols]"
   ]
  },
  {
   "cell_type": "code",
   "execution_count": 110,
   "id": "526f0830",
   "metadata": {},
   "outputs": [
    {
     "data": {
      "text/html": [
       "<div>\n",
       "<style scoped>\n",
       "    .dataframe tbody tr th:only-of-type {\n",
       "        vertical-align: middle;\n",
       "    }\n",
       "\n",
       "    .dataframe tbody tr th {\n",
       "        vertical-align: top;\n",
       "    }\n",
       "\n",
       "    .dataframe thead th {\n",
       "        text-align: right;\n",
       "    }\n",
       "</style>\n",
       "<table border=\"1\" class=\"dataframe\">\n",
       "  <thead>\n",
       "    <tr style=\"text-align: right;\">\n",
       "      <th></th>\n",
       "      <th>NonCancellationRate</th>\n",
       "      <th>RecencyScore</th>\n",
       "      <th>TenureScore</th>\n",
       "      <th>CLV</th>\n",
       "      <th>RFMScore</th>\n",
       "      <th>SpendFrequencyRatio</th>\n",
       "      <th>HighValueCustomer</th>\n",
       "    </tr>\n",
       "  </thead>\n",
       "  <tbody>\n",
       "    <tr>\n",
       "      <th>NonCancellationRate</th>\n",
       "      <td>1.000000</td>\n",
       "      <td>-0.116640</td>\n",
       "      <td>-0.032011</td>\n",
       "      <td>0.008719</td>\n",
       "      <td>0.016876</td>\n",
       "      <td>0.017524</td>\n",
       "      <td>0.057120</td>\n",
       "    </tr>\n",
       "    <tr>\n",
       "      <th>RecencyScore</th>\n",
       "      <td>-0.116640</td>\n",
       "      <td>1.000000</td>\n",
       "      <td>0.081153</td>\n",
       "      <td>-0.133215</td>\n",
       "      <td>-0.011974</td>\n",
       "      <td>-0.320025</td>\n",
       "      <td>-0.466335</td>\n",
       "    </tr>\n",
       "    <tr>\n",
       "      <th>TenureScore</th>\n",
       "      <td>-0.032011</td>\n",
       "      <td>0.081153</td>\n",
       "      <td>1.000000</td>\n",
       "      <td>0.062033</td>\n",
       "      <td>0.095176</td>\n",
       "      <td>0.100937</td>\n",
       "      <td>0.311654</td>\n",
       "    </tr>\n",
       "    <tr>\n",
       "      <th>CLV</th>\n",
       "      <td>0.008719</td>\n",
       "      <td>-0.133215</td>\n",
       "      <td>0.062033</td>\n",
       "      <td>1.000000</td>\n",
       "      <td>0.289162</td>\n",
       "      <td>0.669725</td>\n",
       "      <td>0.145506</td>\n",
       "    </tr>\n",
       "    <tr>\n",
       "      <th>RFMScore</th>\n",
       "      <td>0.016876</td>\n",
       "      <td>-0.011974</td>\n",
       "      <td>0.095176</td>\n",
       "      <td>0.289162</td>\n",
       "      <td>1.000000</td>\n",
       "      <td>0.031193</td>\n",
       "      <td>0.185837</td>\n",
       "    </tr>\n",
       "    <tr>\n",
       "      <th>SpendFrequencyRatio</th>\n",
       "      <td>0.017524</td>\n",
       "      <td>-0.320025</td>\n",
       "      <td>0.100937</td>\n",
       "      <td>0.669725</td>\n",
       "      <td>0.031193</td>\n",
       "      <td>1.000000</td>\n",
       "      <td>0.257457</td>\n",
       "    </tr>\n",
       "    <tr>\n",
       "      <th>HighValueCustomer</th>\n",
       "      <td>0.057120</td>\n",
       "      <td>-0.466335</td>\n",
       "      <td>0.311654</td>\n",
       "      <td>0.145506</td>\n",
       "      <td>0.185837</td>\n",
       "      <td>0.257457</td>\n",
       "      <td>1.000000</td>\n",
       "    </tr>\n",
       "  </tbody>\n",
       "</table>\n",
       "</div>"
      ],
      "text/plain": [
       "                     NonCancellationRate  RecencyScore  TenureScore       CLV  \\\n",
       "NonCancellationRate             1.000000     -0.116640    -0.032011  0.008719   \n",
       "RecencyScore                   -0.116640      1.000000     0.081153 -0.133215   \n",
       "TenureScore                    -0.032011      0.081153     1.000000  0.062033   \n",
       "CLV                             0.008719     -0.133215     0.062033  1.000000   \n",
       "RFMScore                        0.016876     -0.011974     0.095176  0.289162   \n",
       "SpendFrequencyRatio             0.017524     -0.320025     0.100937  0.669725   \n",
       "HighValueCustomer               0.057120     -0.466335     0.311654  0.145506   \n",
       "\n",
       "                     RFMScore  SpendFrequencyRatio  HighValueCustomer  \n",
       "NonCancellationRate  0.016876             0.017524           0.057120  \n",
       "RecencyScore        -0.011974            -0.320025          -0.466335  \n",
       "TenureScore          0.095176             0.100937           0.311654  \n",
       "CLV                  0.289162             0.669725           0.145506  \n",
       "RFMScore             1.000000             0.031193           0.185837  \n",
       "SpendFrequencyRatio  0.031193             1.000000           0.257457  \n",
       "HighValueCustomer    0.185837             0.257457           1.000000  "
      ]
     },
     "execution_count": 110,
     "metadata": {},
     "output_type": "execute_result"
    }
   ],
   "source": [
    "df_numeric.corr()"
   ]
  },
  {
   "cell_type": "code",
   "execution_count": 112,
   "id": "3c1f5855",
   "metadata": {
    "scrolled": false
   },
   "outputs": [
    {
     "data": {
      "image/png": "[encoded data removed]",
      "text/plain": [
       "<Figure size 1000x500 with 1 Axes>"
      ]
     },
     "metadata": {},
     "output_type": "display_data"
    },
    {
     "data": {
      "image/png": "[encoded data removed]",
      "text/plain": [
       "<Figure size 1000x500 with 2 Axes>"
      ]
     },
     "metadata": {},
     "output_type": "display_data"
    }
   ],
   "source": [
    "# Exclude non-numeric columns\n",
    "numeric_cols = ['NonCancellationRate', 'RecencyScore','Hour',\n",
    "        'TenureScore', 'CLV', 'RFMScore', 'SpendFrequencyRatio', 'HighValueCustomer']\n",
    "#df_numeric = RFM_filtered[numeric_cols]\n",
    "df_numeric = RFM[numeric_cols]\n",
    "\n",
    "# Standardize the data\n",
    "scaler = StandardScaler()\n",
    "scaled_data = scaler.fit_transform(df_numeric)\n",
    "\n",
    "# Perform PCA\n",
    "pca = PCA()\n",
    "pca.fit(scaled_data)\n",
    "pca_data = pca.transform(scaled_data)\n",
    "\n",
    "# Create a dataframe for the PCA data\n",
    "pca_df = pd.DataFrame(pca_data, columns=[f'PC{i+1}' for i in range(len(numeric_cols))])\n",
    "\n",
    "# Extract the eigenvalues\n",
    "eigenvalues = pca.explained_variance_ratio_\n",
    "\n",
    "# Plot the eigenvalues\n",
    "plt.figure(figsize=(10, 5))\n",
    "plt.bar(range(1, len(eigenvalues) + 1), eigenvalues, alpha=0.7, align='center', label='individual explained variance')\n",
    "plt.step(range(1, len(eigenvalues) + 1), np.cumsum(eigenvalues), where='mid', label='cumulative explained variance')\n",
    "plt.xlabel('Principal components')\n",
    "plt.ylabel('Explained variance ratio')\n",
    "plt.legend(loc='best')\n",
    "plt.title('PCA Eigenvalues')\n",
    "plt.show()\n",
    "\n",
    "# Plot the loadings\n",
    "loadings = pd.DataFrame(pca.components_.T, columns=[f'PC{i+1}' for i in range(len(numeric_cols))], index=numeric_cols)\n",
    "plt.figure(figsize=(10, 5))\n",
    "sns.heatmap(loadings, annot=True, cmap='Spectral')\n",
    "plt.title('PCA Loadings')\n",
    "plt.show()\n",
    "\n",
    "pca_df.head()\n",
    "\n",
    "# Include PCA values in the original dataframe \n",
    "RFM_PCA = pd.concat([RFM, pca_df], axis=1)"
   ]
  },
  {
   "cell_type": "markdown",
   "id": "834e1164",
   "metadata": {},
   "source": [
    "### Conclusions: \n",
    "The correlations are generally weak to moderate, indicating that while there are some relationships between the features, they are not strong. Given this, dimensionality reduction (e.g., using PCA) might not be necessary unless you aim for more refined analysis or visualization purposes. The existing features seem to capture distinct aspects of customer behavior, which can be useful for detailed segmentation and analysis."
   ]
  },
  {
   "cell_type": "markdown",
   "id": "e91e3908",
   "metadata": {},
   "source": [
    "## Phase 5: Application of Unsupervised Learning Techniques\n",
    "Use clustering algorithms like K-means, Hierarchical Clustering, or DBSCAN to segment the customers. These techniques will group customers based on their purchasing behaviors and the features engineered in Phase 3."
   ]
  },
  {
   "cell_type": "markdown",
   "id": "976ef437",
   "metadata": {},
   "source": [
    "### 5.1. K-means for \"RFM\""
   ]
  },
  {
   "cell_type": "code",
   "execution_count": 114,
   "id": "82ae3e2e",
   "metadata": {},
   "outputs": [
    {
     "name": "stdout",
     "output_type": "stream",
     "text": [
      "Optimal number of clusters is  2\n",
      "Test Silhouette Score: 0.4243073067948806\n",
      "Test Davies-Bouldin Index: 1.2467950084685744\n",
      "Test Calinski-Harabasz Index: 143.06463686217566\n"
     ]
    }
   ],
   "source": [
    "import pandas as pd\n",
    "from sklearn.model_selection import train_test_split\n",
    "from sklearn.preprocessing import StandardScaler\n",
    "from sklearn.cluster import KMeans\n",
    "from sklearn.metrics import silhouette_score, silhouette_samples, davies_bouldin_score, calinski_harabasz_score\n",
    "\n",
    "# Data for analysis\n",
    "col=['NonCancellationRate', 'RecencyScore', 'Hour',\n",
    "        'TenureScore', 'CLV', 'RFMScore', 'SpendFrequencyRatio', 'HighValueCustomer']\n",
    "RFM_Kmeans = RFM[col]\n",
    "\n",
    "# Split the data into training and test sets\n",
    "train_data, test_data = train_test_split(RFM_Kmeans, test_size=0.2, random_state=42)\n",
    "\n",
    "# Standardize the training data\n",
    "scaler = StandardScaler()\n",
    "train_data_scaled = scaler.fit_transform(train_data[col])\n",
    "\n",
    "# Determine the optimal number of clusters using the silhouette score\n",
    "silhouette_scores = []\n",
    "K = range(2, 11)  # Start from 2 as silhouette score is not defined for 1 cluster\n",
    "\n",
    "for k in K:\n",
    "    kmeans = KMeans(n_clusters=k, random_state=42)\n",
    "    kmeans.fit(train_data_scaled)\n",
    "    silhouette_scores.append(silhouette_score(train_data_scaled, kmeans.labels_))\n",
    "\n",
    "# Choose the optimal number of clusters (based on the highest silhouette score)\n",
    "optimal_clusters = K[np.argmax(silhouette_scores)]\n",
    "print('Optimal number of clusters is ', optimal_clusters)\n",
    "\n",
    "# Train the K-means model with optimal clusters\n",
    "kmeans = KMeans(n_clusters=optimal_clusters, random_state=42)\n",
    "train_data['Cluster'] = kmeans.fit_predict(train_data_scaled)\n",
    "\n",
    "# Standardize the test data\n",
    "test_data_scaled = scaler.transform(test_data[col])\n",
    "\n",
    "# Predict clusters for test data\n",
    "test_data['Cluster'] = kmeans.predict(test_data_scaled)\n",
    "\n",
    "# Evaluate the model\n",
    "# Compute silhouette score\n",
    "test_silhouette_avg = silhouette_score(test_data_scaled, test_data['Cluster'])\n",
    "print(f'Test Silhouette Score: {test_silhouette_avg}')\n",
    "\n",
    "# Compute Davies-Bouldin Index\n",
    "test_davies_bouldin = davies_bouldin_score(test_data_scaled, test_data['Cluster'])\n",
    "print(f'Test Davies-Bouldin Index: {test_davies_bouldin}')\n",
    "\n",
    "# Compute Calinski-Harabasz Index\n",
    "test_calinski_harabasz = calinski_harabasz_score(test_data_scaled, test_data['Cluster'])\n",
    "print(f'Test Calinski-Harabasz Index: {test_calinski_harabasz}')\n"
   ]
  },
  {
   "cell_type": "markdown",
   "id": "6a32c3f0",
   "metadata": {},
   "source": [
    "#### Silhouette Score: 0.29\n",
    "* Interpretation: A silhouette score of around 0.3 suggests that the clusters are somewhat overlapping and less distinct. While this is not an ideal score, it indicates that there is some structure in the data, but improvements can be made to enhance the cluster separation.\n",
    "#### Davies-Bouldin Index: 0.99\n",
    "Interpretation: The Davies-Bouldin Index measures the average similarity ratio of each cluster with its most similar cluster. Lower values are better, and your score of 0.994 suggests reasonable separation between clusters. However, there is some room for improvement.\n",
    "#### Calinski-Harabasz Index: 208.42\n",
    "Interpretation: The Calinski-Harabasz Index measures the ratio of the sum of between-cluster dispersion to within-cluster dispersion. Higher values indicate better-defined clusters. Your score of 208.421 indicates moderately well-defined clusters, but there might be some within-cluster variance that could be reduced.\n",
    "\n",
    "**Summary:**\n",
    "clustering model has identified some structure in the data with 4 clusters. The scores indicate that while the clusters are reasonably well-defined, there is still some overlap and variance within the clusters. **You might consider further tuning the model or exploring other clustering methods to improve the clustering quality.If you're satisfied with these results, you can proceed with further analysis or application of these clusters.**"
   ]
  },
  {
   "cell_type": "markdown",
   "id": "b08d5e12",
   "metadata": {},
   "source": [
    "### 5.2. Hierarchical Clustering"
   ]
  },
  {
   "cell_type": "code",
   "execution_count": 117,
   "id": "f981bd65",
   "metadata": {
    "scrolled": true
   },
   "outputs": [
    {
     "data": {
      "image/png": "[encoded data removed]",
      "text/plain": [
       "<Figure size 1200x700 with 1 Axes>"
      ]
     },
     "metadata": {},
     "output_type": "display_data"
    },
    {
     "name": "stdout",
     "output_type": "stream",
     "text": [
      "Test Silhouette Score: 0.49920548069158943\n",
      "Test Davies-Bouldin Index: 0.5629646247456401\n",
      "Test Calinski-Harabasz Index: 637.8131338293582\n"
     ]
    }
   ],
   "source": [
    "\n",
    "from sklearn.model_selection import train_test_split\n",
    "from sklearn.preprocessing import StandardScaler\n",
    "from sklearn.cluster import AgglomerativeClustering\n",
    "from sklearn.metrics import silhouette_score, davies_bouldin_score, calinski_harabasz_score\n",
    "import scipy.cluster.hierarchy as sch\n",
    "\n",
    "\n",
    "# Data for analysis\n",
    "col = ['NonCancellationRate', 'RecencyScore',\n",
    "        'TenureScore', 'CLV', 'RFMScore', 'SpendFrequencyRatio', 'HighValueCustomer']\n",
    "RFM_Kmeans = RFM[col]\n",
    "\n",
    "\n",
    "# Split the data into training and test sets\n",
    "train_data, test_data = train_test_split(RFM_Kmeans, test_size=0.2, random_state=42)\n",
    "\n",
    "# Standardize the training data\n",
    "scaler = StandardScaler()\n",
    "train_data_scaled = scaler.fit_transform(train_data[col])\n",
    "\n",
    "# Create the Dendrogram to find the optimal number of clusters\n",
    "plt.figure(figsize=(12, 7))\n",
    "dendrogram = sch.dendrogram(sch.linkage(train_data_scaled, method='ward'))\n",
    "plt.title('Dendrogram')\n",
    "plt.xlabel('Customers')\n",
    "plt.ylabel('Euclidean distances')\n",
    "plt.show()\n",
    "\n",
    "# Based on the dendrogram, assume the optimal number of clusters is 4\n",
    "optimal_clusters = 4 # You may adjust this based on the dendrogram visualization\n",
    "\n",
    "# Train the Hierarchical Clustering model\n",
    "hc = AgglomerativeClustering(n_clusters=optimal_clusters, metric='euclidean', linkage='ward')\n",
    "train_data['Cluster'] = hc.fit_predict(train_data_scaled)\n",
    "\n",
    "# Standardize the test data\n",
    "test_data_scaled = scaler.transform(test_data[col])\n",
    "\n",
    "# Predict clusters for test data\n",
    "test_data['Cluster'] = hc.fit_predict(test_data_scaled)\n",
    "\n",
    "# Evaluate the model\n",
    "# Compute silhouette score\n",
    "test_silhouette_avg = silhouette_score(test_data_scaled, test_data['Cluster'])\n",
    "print(f'Test Silhouette Score: {test_silhouette_avg}')\n",
    "\n",
    "# Compute Davies-Bouldin Index\n",
    "test_davies_bouldin = davies_bouldin_score(test_data_scaled, test_data['Cluster'])\n",
    "print(f'Test Davies-Bouldin Index: {test_davies_bouldin}')\n",
    "\n",
    "# Compute Calinski-Harabasz Index\n",
    "test_calinski_harabasz = calinski_harabasz_score(test_data_scaled, test_data['Cluster'])\n",
    "print(f'Test Calinski-Harabasz Index: {test_calinski_harabasz}')\n"
   ]
  },
  {
   "cell_type": "markdown",
   "id": "f715abb1",
   "metadata": {},
   "source": [
    "### Initial results\n",
    "#### Silhouette Score: 0.27\n",
    "* Interpretation: A silhouette score of approximately 0.27 indicates that the clusters are not very well separated and there is substantial overlap. This suggests that the clustering model has difficulty distinguishing between different data points and that the clusters may not be very distinct.\n",
    "#### Davies-Bouldin Index: 1.04\n",
    "* Interpretation: The Davies-Bouldin Index measures the average similarity ratio of each cluster with its most similar cluster. Lower values are better, and your score of 1.046 suggests that the clusters are reasonably separated but could be improved. A value close to 1 indicates some degree of overlap between clusters.\n",
    "#### Calinski-Harabasz Index: 231.17\n",
    "* Interpretation: he Calinski-Harabasz Index measures the ratio of the sum of between-cluster dispersion to within-cluster dispersion. Higher values indicate better-defined clusters. Your score of 231.177 is moderate, suggesting that the clusters have some structure but there is room for improvement.\n",
    "\n",
    "**Summary:**\n",
    "clustering model has identified some structure in the data with 6 clusters. **You might consider further tuning the model or exploring other clustering methods to improve the clustering quality.If you're satisfied with these results, you can proceed with further analysis or application of these clusters.**"
   ]
  },
  {
   "cell_type": "markdown",
   "id": "e571ac0b",
   "metadata": {},
   "source": [
    "### 5.3. DBSCAN clustering"
   ]
  },
  {
   "cell_type": "code",
   "execution_count": 118,
   "id": "56f0eb6b",
   "metadata": {},
   "outputs": [
    {
     "name": "stdout",
     "output_type": "stream",
     "text": [
      "Test Silhouette Score: 0.7891888431254359\n",
      "Test Davies-Bouldin Index: 1.855233070702428\n",
      "Test Calinski-Harabasz Index: 99.55314052533849\n"
     ]
    }
   ],
   "source": [
    "from sklearn.model_selection import train_test_split\n",
    "from sklearn.preprocessing import StandardScaler\n",
    "from sklearn.cluster import DBSCAN\n",
    "from sklearn.metrics import silhouette_score, davies_bouldin_score, calinski_harabasz_score\n",
    "\n",
    "# Data for analysis\n",
    "col = ['NonCancellationRate', 'RecencyScore',\n",
    "        'TenureScore', 'CLV', 'RFMScore', 'SpendFrequencyRatio', 'HighValueCustomer']\n",
    "RFM_DBSCAN = RFM[col]\n",
    "\n",
    "# Split the data into training and test sets\n",
    "train_data, test_data = train_test_split(RFM_DBSCAN, test_size=0.2, random_state=42)\n",
    "\n",
    "# Standardize the training data\n",
    "scaler = StandardScaler()\n",
    "train_data_scaled = scaler.fit_transform(train_data[col])\n",
    "test_data_scaled = scaler.transform(test_data[col])\n",
    "\n",
    "# Train the DBSCAN model\n",
    "dbscan = DBSCAN(eps=2.75, min_samples=40)  # You may need to tune these parameters based on your data\n",
    "train_data['Cluster'] = dbscan.fit_predict(train_data_scaled)\n",
    "\n",
    "# Predict clusters for test data\n",
    "test_data['Cluster'] = dbscan.fit_predict(test_data_scaled)\n",
    "\n",
    "# Filter out noise points labeled as -1\n",
    "train_data_clusters = train_data[train_data['Cluster'] != -1]\n",
    "test_data_clusters = test_data[test_data['Cluster'] != -1]\n",
    "\n",
    "# Evaluate the model on the test set without noise\n",
    "# Compute silhouette score\n",
    "if len(set(test_data['Cluster'])) > 1:\n",
    "    test_silhouette_avg = silhouette_score(test_data_scaled, test_data['Cluster'])\n",
    "    test_davies_bouldin = davies_bouldin_score(test_data_scaled, test_data['Cluster'])\n",
    "    test_calinski_harabasz = calinski_harabasz_score(test_data_scaled, test_data['Cluster'])\n",
    "else:\n",
    "    test_silhouette_avg = -1\n",
    "    test_davies_bouldin = -1\n",
    "    test_calinski_harabasz = -1\n",
    "\n",
    "print(f'Test Silhouette Score: {test_silhouette_avg}')\n",
    "print(f'Test Davies-Bouldin Index: {test_davies_bouldin}')\n",
    "print(f'Test Calinski-Harabasz Index: {test_calinski_harabasz}')\n"
   ]
  },
  {
   "cell_type": "markdown",
   "id": "5d4dc67b",
   "metadata": {},
   "source": [
    "**Summary:** \n",
    "* Silhouette Score: Indicates well-defined and reasonably separated clusters.\n",
    "* Davies-Bouldin Index: Suggests moderate separation between clusters with some overlap.\n",
    "* Calinski-Harabasz Index: Confirms that the clusters are distinguishable but can be improved."
   ]
  }
 ],
 "metadata": {
  "kernelspec": {
   "display_name": "Python 3 (ipykernel)",
   "language": "python",
   "name": "python3"
  },
  "language_info": {
   "codemirror_mode": {
    "name": "ipython",
    "version": 3
   },
   "file_extension": ".py",
   "mimetype": "text/x-python",
   "name": "python",
   "nbconvert_exporter": "python",
   "pygments_lexer": "ipython3",
   "version": "3.11.5"
  }
 },
 "nbformat": 4,
 "nbformat_minor": 5
}
