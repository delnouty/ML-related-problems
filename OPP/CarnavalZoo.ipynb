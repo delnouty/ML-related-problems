class Animal:
    def __init__(self, name, species, category):
        self.name = name
        self.species = species
        self.category = category

    def __repr__(self):
        return f"{self.species} nommé {self.name}"

class Cage:
    def __init__(self, cage_id):
        self.cage_id = cage_id
        self.animals = []

    def add_animal(self, animal):
        if self.animals and self.animals[0].category != animal.category:
            print(f"Erreur : Impossible de mettre un {animal.category} avec des {self.animals[0].category}s")
        else:
            self.animals.append(animal)

    def list_animals(self):
        return [str(animal) for animal in self.animals]

class Zoo:
    def __init__(self):
        self.cages = []

    def add_cage(self, cage):
        self.cages.append(cage)

    def get_cage(self, cage_id):
        for cage in self.cages:
            if cage.cage_id == cage_id:
                return cage
        return None

    def number_of_cages(self):
        return len(self.cages)

    def list_cages(self):
        return self.cages

    def display_zoo(self):
        if not self.cages:
            print("Le zoo est vide.")
        else:
            for cage in self.cages:
                animals = cage.list_animals()
                if animals:
                    print(f"Cage {cage.cage_id} contient : " + ", ".join(animals))
                else:
                    print(f"Cage {cage.cage_id} est vide.")

def main():
    zoo = Zoo()

    while True:
        print("\nOptions :")
        print("1. Ajouter une cage")
        print("2. Ajouter un animal dans une cage")
        print("3. Afficher le nombre de cages")
        print("4. Lister les animaux dans une cage")
        print("5. Afficher tout le zoo")
        print("6. Quitter")

        choice = input("Choisissez une option : ")

        if choice == "1":
            cage_id = len(zoo.cages) + 1
            cage = Cage(cage_id)
            zoo.add_cage(cage)
            print(f"Cage {cage_id} ajoutée.")
        elif choice == "2":
            cage_id = int(input("ID de la cage : "))
            cage = zoo.get_cage(cage_id)
            if cage is None:
                print(f"Cage {cage_id} n'existe pas. Ajout d'une nouvelle cage.")
                cage = Cage(cage_id)
                zoo.add_cage(cage)
            name = input("Nom de l'animal : ")
            species = input("Espèce de l'animal : ")
            category = input("Catégorie de l'animal (Prédateur/Herbivore) : ")
            animal = Animal(name, species, category)
            cage.add_animal(animal)
            print(f"{species} nommé {name} ajouté à la cage {cage_id}.")
        elif choice == "3":
            print(f"Nombre de cages : {zoo.number_of_cages()}")
        elif choice == "4":
            cage_id = int(input("ID de la cage : "))
            cage = zoo.get_cage(cage_id)
            if cage is None:
                print("Cage invalide.")
            else:
                animals = cage.list_animals()
                if animals:
                    print("Animaux dans la cage : " + ", ".join(animals))
                else:
                    print("La cage est vide.")
        elif choice == "5":
            zoo.display_zoo()
        elif choice == "6":
            break
        else:
            print("Option invalide.")

if __name__ == "__main__":
    main()
